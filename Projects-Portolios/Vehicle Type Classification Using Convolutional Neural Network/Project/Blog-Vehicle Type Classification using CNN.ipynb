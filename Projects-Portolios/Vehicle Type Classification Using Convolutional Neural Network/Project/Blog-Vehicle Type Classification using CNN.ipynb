{
 "cells": [
  {
   "cell_type": "markdown",
   "metadata": {},
   "source": [
    " Vehicle Type Classification using Convolutional Neural Network\n",
    "==="
   ]
  },
  {
   "cell_type": "markdown",
   "metadata": {},
   "source": [
    "## **Contents**\n",
    "- [Vehicle Type Classification using Convolutional Neural Network](#Project Overview)\n",
    "  - [Project Overview](#Project-Overview)\n",
    "    - [General Information](#General-Information)\n",
    "    - [Dataset Introduction](#Dataset-Introduction)\n",
    "    - [Set Up Deep Learning Environment](#Set-Up-Deep-Learning-Environment)\n",
    "  - [Project Implementation](#Project-Implementation)\n",
    "    - [Data Preprocessing](#Data-Preprocessing)\n",
    "    - [Baseline CNN model](#Baseline-CNN-model)\n",
    "    - [Mimic AlexNet Model](#Mimic-AlexNet-Model)\n",
    "    - [Transfer Learning using Inception V3](#Transfer-Learning-using-Inception-V3)\n",
    "  - [Conclusion](#Conclusion)\n",
    "  - [Reference](#Reference)\n",
    "  - [License](#License)"
   ]
  },
  {
   "cell_type": "markdown",
   "metadata": {},
   "source": [
    "## Project Overview"
   ]
  },
  {
   "cell_type": "markdown",
   "metadata": {},
   "source": [
    "### General Information"
   ]
  },
  {
   "cell_type": "markdown",
   "metadata": {},
   "source": [
    "- This projet is about <b>vehicle type classification using Convolutional Neural Network(CNN)</b> : \n",
    "    - Class recognition and computer vision bring convenience and have been applied to a multitude of fields in our lives, and image classification is one of the most important problem of visual recognition. Nowadays, vision-based vehicle types classification plays more important role in traffic control and surveillance, autonomous navigation, intelligence parking management area. Surveillance cameras mainly focus on frontal view of vehicles, therefore focusing on such type of vehicle image classification is essential. This project is to train cnn models using the training data of vehicle types in order to pick the best matching vehicle type of given images among the set of categories.\n",
    "- We implement three deep cnn models: \n",
    "    - VGG16-like baseline model \n",
    "    - Mimic AlexNet \n",
    "    - Transfer Learning with Inception V3<br>\n",
    "        Evalute them by test accuracy."
   ]
  },
  {
   "cell_type": "markdown",
   "metadata": {},
   "source": [
    "### Dataset Introduction"
   ]
  },
  {
   "cell_type": "markdown",
   "metadata": {},
   "source": [
    "* This dataset contains 9,850 images based on frontal view and one .mat file which includes pre-annotated information about the vehicle type and vehicle location.\n",
    "* Each image has either 1600x1200 or 1920x1080 resolution<br>\n",
    "* Each vehicle in this dataset belongs to one of the following types: Sedan, Bus, MiniVan, SUV, Truck and MicroBus<br> \n",
    "* You can get the dataset here: [BIT-Vehicle Dataset](http://iitlab.bit.edu.cn/mcislab/vehicledb/)"
   ]
  },
  {
   "cell_type": "markdown",
   "metadata": {},
   "source": [
    "<img src=\"./image/matlab1.png\" width=\"60%\"/>\n",
    "<img src=\"./image/matlab2.png\" width=\"60%\"/>"
   ]
  },
  {
   "cell_type": "markdown",
   "metadata": {},
   "source": [
    "### Set Up Deep Learning Environment"
   ]
  },
  {
   "cell_type": "markdown",
   "metadata": {},
   "source": [
    "<b>AWS </b>is short for Amazon Web Services. It is Amazon.com’s cloud-computing platform.<br>\n",
    "Amazon Elastic Compute Cloud(EC2) is a central part of AWS. Through this platform, user can boot an Amazon Machine Image(AMI) to configure a virtual machine.<br>\n",
    "<b>Keras</b>:  an open source neural network library, it provides API which based on Tensorflow.<br>"
   ]
  },
  {
   "cell_type": "markdown",
   "metadata": {},
   "source": [
    "**Instruction:**<br>\n",
    "(1) Create an AWS account https://aws.amazon.com/ and sign in to the console.<br>\n",
    "(2) Then you can see your dashboard and make sure that you selected Frankfurt, N. Virgiania, or Singapore as your region.<br>\n",
    "(3) From AWS Service choose EC2 (“Amazon Elastic Compute Cloud (Amazon EC2) provides scalable computing capacity in the Amazon Web Services (AWS) cloud. Using Amazon EC2 eliminates your need to invest in hardware up front, so you can develop and deploy applications faster).<br>\n",
    "(4) Click \"Launch Instance\" blue button to launch your instance.<br>\n",
    "(5) Choose Deep Learning AMI(Ubuntu) with pre-installed Keras, TensorFlow etc.<br>\n",
    "(6) Configure your instance step by step following the instruction.<br>\n",
    "(7) Configure your \"Security Group\". This stage is important, because you’ll want to access your instance not only using ssh, but also via browser. Add a custom TCP rule on port 8888. Make it accessible only from your IP address, both 8888 and 22(ssh).<br>\n",
    "(8) Finally, everything is ready, and you can launch the instance.<br>\n",
    "(9) Open your terminal and connect to AWS instance using SSH.<br>\n",
    "(10) Run the Jupyter Notebook with this command:  `Jupyter Notebook`<br>\n",
    "If you want to see more details for AWS EC2 instance tutorial can refer to this blog: [Keras with GPU on Amazon EC2 – a step-by-step instruction](https://hackernoon.com/keras-with-gpu-on-amazon-ec2-a-step-by-step-instruction-4f90364e49ac)"
   ]
  },
  {
   "cell_type": "markdown",
   "metadata": {},
   "source": [
    "## Project Implementation"
   ]
  },
  {
   "cell_type": "markdown",
   "metadata": {},
   "source": [
    "### Data Preprocessing"
   ]
  },
  {
   "cell_type": "markdown",
   "metadata": {},
   "source": [
    "* Since only the vehicle in each image is what the training model cares, thus doing following steps:<br>\n",
    "    **Cropping** out only the vehicle part in each image.<br>\n",
    "    **Resize** all images to the same resolution.<br>\n",
    "    **Get the label** of vehicle in each image from pre-annotated information.<br>"
   ]
  },
  {
   "cell_type": "code",
   "execution_count": 1,
   "metadata": {
    "collapsed": true
   },
   "outputs": [],
   "source": [
    "import cv2\n",
    "import os\n",
    "import numpy as np\n",
    "from matplotlib import pyplot as plt\n",
    "import scipy.io as scio\n",
    "import pandas as pd"
   ]
  },
  {
   "cell_type": "code",
   "execution_count": 2,
   "metadata": {},
   "outputs": [
    {
     "name": "stderr",
     "output_type": "stream",
     "text": [
      "Using TensorFlow backend.\n"
     ]
    }
   ],
   "source": [
    "from pathlib import Path\n",
    "import seaborn as sns\n",
    "from IPython.display import display\n",
    "%matplotlib inline\n",
    "from sklearn.model_selection import train_test_split\n",
    "import keras\n",
    "from keras.preprocessing import image\n",
    "from keras.utils import np_utils\n",
    "from keras.models import Sequential\n",
    "from keras.layers import Dense, Dropout, Activation, Flatten\n",
    "from keras.layers import Conv2D, MaxPooling2D, BatchNormalization\n",
    "from keras.optimizers import Adam\n",
    "from keras.callbacks import ReduceLROnPlateau, CSVLogger, EarlyStopping,LearningRateScheduler, ModelCheckpoint\n",
    "import math"
   ]
  },
  {
   "cell_type": "code",
   "execution_count": 3,
   "metadata": {
    "collapsed": true
   },
   "outputs": [],
   "source": [
    "mat = scio.loadmat('VehicleInfo.mat')# Read .mat file\n",
    "def alter(mat,path,object):\n",
    "    info = mat.get('VehicleInfo') # Extract ['VehicleInfo] column info\n",
    "    s = os.listdir(path)  # return all the file names within this directory in arbitrary order\n",
    "    count = 1\n",
    "    for i in sorted(s):\n",
    "        # Sort all the files in order to match the pre-annotated information in mat:\n",
    "        base = os.path.basename(i)\n",
    "        # basename function is used to return the tail of the path\n",
    "        fileName = os.path.splitext(base)[0]\n",
    "        result = []\n",
    "        document = os.path.join(path,i)\n",
    "        img = cv2.imread(document)\n",
    "        if img is not None:\n",
    "            # location info has been written in .mat lab using struct data type\n",
    "            left = info[count-2][0][3][0][0][0][0][0]\n",
    "            top = info[count-2][0][3][0][0][1][0][0]\n",
    "            right = info[count-2][0][3][0][0][2][0][0]\n",
    "            bottom = info[count-2][0][3][0][0][3][0][0]\n",
    "            # crop vehicle image:\n",
    "            img = img[top:bottom,left:right] \n",
    "            # resize images to 299x299:\n",
    "            img = cv2.resize(img,(299,299))\n",
    "        elif img is None:\n",
    "            print('title')\n",
    "        cv2.imwrite(object+os.sep+'%s.jpg' % fileName, img)\n",
    "        count = count + 1"
   ]
  },
  {
   "cell_type": "code",
   "execution_count": 4,
   "metadata": {
    "collapsed": true
   },
   "outputs": [],
   "source": [
    "alter(mat,'BITVehicle_Dataset','Dataset_Resize')"
   ]
  },
  {
   "cell_type": "code",
   "execution_count": 5,
   "metadata": {
    "collapsed": true
   },
   "outputs": [],
   "source": [
    "X_list = []\n",
    "for filename in sorted(os.listdir('./Dataset_Resize/')):\n",
    "    img = image.load_img(Path('./Dataset_Resize/', filename), target_size = (32,32)) # load all the images to a list\n",
    "    X_list.append(image.img_to_array(img))\n",
    "# convert all images to numpy array\n",
    "X = np.array(X_list) \n",
    "\n",
    "df = pd.read_csv('./vehicles.csv', index_col=0) # load annotation file\n",
    "df_dummy = pd.get_dummies(df['Vehicle_Type']) # dummy encoding\n",
    "Y = np.array(df_dummy)\n",
    "\n",
    "# splite data for train and test\n",
    "X_train, X_test, Y_train, Y_test = train_test_split(X, Y, test_size=0.2) "
   ]
  },
  {
   "cell_type": "markdown",
   "metadata": {},
   "source": [
    "###  Baseline CNN model"
   ]
  },
  {
   "cell_type": "markdown",
   "metadata": {},
   "source": [
    "<p>We try to train one small CNN with a few layers and few filters per layer on our data, as an initial baseline refering to Keras offical examples<sup>[1]</sup> which is a VGG-like convnet and we resize the image to 32x32 in order to train it on our own computer cpu.</p>\n",
    "<p>A convnet takes an image expressed as an array of numbers, applies a series of operations to that array and, at the end, returns the probability that an object in the image belongs to a particular class of objects. </p>"
   ]
  },
  {
   "cell_type": "markdown",
   "metadata": {},
   "source": [
    "<p>This CNN has 4 convolutional layers and uses ReLU(rectified linear units) activation function. And it uses maxpooling layers to down samples and dropout layers to reduce overfitting by a layer from seeing twice the exact same pattern.</p>\n",
    "<p>We set the parameters of the first convolutional layers in the first block to 32 filters and the kernal size is 3x3 and the filter number in convolutional layers of the second block is 64 with the size 3x3 in order to fit our dataset.</p>\n",
    "<p>We use Relu, the function f(x) = max(0, x), as our nonlinearity layer because it makes the network train faster and can reduce vanishing gradient problem, which is the issue where the lower layers of the network train very slowly because the gradient decreases exponentially through the layers.</p>\n",
    "<P>And also dropout layer “drops out” a random set of activations in that layer by setting them to zero and it is only used during training, and not during test time. </P>"
   ]
  },
  {
   "cell_type": "code",
   "execution_count": 7,
   "metadata": {
    "collapsed": true
   },
   "outputs": [],
   "source": [
    "def get_model_1(input_shape):\n",
    "    model = Sequential()\n",
    "    # input: 32x32 images with 3 channels -> (32, 32, 3) tensors.\n",
    "    # this applies 32 convolution filters of size 3x3 each.\n",
    "    model.add(Conv2D(32, (3, 3), padding='same', input_shape=input_shape))\n",
    "    model.add(Activation('relu'))\n",
    "    model.add(Conv2D(32, (3, 3)))\n",
    "    model.add(Activation('relu'))\n",
    "    model.add(MaxPooling2D(pool_size=(3, 3)))\n",
    "    model.add(Dropout(0.25))\n",
    "\n",
    "    model.add(Conv2D(64, (3, 3), padding='same'))\n",
    "    model.add(Activation('relu'))\n",
    "    model.add(Conv2D(64, (3, 3)))\n",
    "    model.add(Activation('relu'))\n",
    "    model.add(MaxPooling2D(pool_size=(3, 3)))\n",
    "    model.add(Dropout(0.25))\n",
    "\n",
    "    # fully connected layers\n",
    "    model.add(Flatten())\n",
    "    model.add(Dense(512))\n",
    "    model.add(Activation('relu'))\n",
    "    model.add(Dropout(0.5))\n",
    "    model.add(Dense(6))\n",
    "    model.add(Activation('softmax'))\n",
    "    \n",
    "    opt = keras.optimizers.Adam(lr=0.0001, beta_1=0.9, beta_2=0.999, epsilon=1e-08, decay=1e-6)\n",
    "    model.compile(loss='categorical_crossentropy', optimizer=opt, metrics=['accuracy'])\n",
    "    \n",
    "    return model"
   ]
  },
  {
   "cell_type": "markdown",
   "metadata": {},
   "source": [
    "Callbacks Methods in Keras:<br>\n",
    "A callback is a set of functions to be applied at given stages of the training procedure.<br>\n",
    "We use <b>EarlyStopping</b> function to stop training when a monitored quantity has stopped improving,<br> <b>ReduceLROnPlateau</b> to reduce learning rate when a metric has stopped improving,<br> <b> ModelCheckpoint</b> to save the model after every epoch, <br>and <b>CSVLogger</b> to stream epoch results to a csv file."
   ]
  },
  {
   "cell_type": "code",
   "execution_count": 8,
   "metadata": {
    "collapsed": true
   },
   "outputs": [],
   "source": [
    "# stop training after 5 epochs with no val_loss improving\n",
    "early_Stopping = EarlyStopping( \n",
    "    monitor='val_loss', \n",
    "    patience=5, \n",
    "    verbose=0, \n",
    "    mode='auto'\n",
    ")\n",
    "# reduce learning rate when val_loss stop improving for 5 epochs\n",
    "reduceLR = ReduceLROnPlateau(monitor='val_loss', factor=0.1, patience=5, verbose=0, mode='auto', epsilon=0.0001, cooldown=0, min_lr=0)\n",
    "# save model\n",
    "checkpointer = ModelCheckpoint(filepath=\"CNN.hdf5\", verbose=1)\n",
    "# save training result\n",
    "csv = CSVLogger('CNN.csv')"
   ]
  },
  {
   "cell_type": "markdown",
   "metadata": {},
   "source": [
    "Keras models are trained on numpy arrays of input data and labels, and fit method is to trains the model for a fixed number of epochs (iterations on a dataset)."
   ]
  },
  {
   "cell_type": "code",
   "execution_count": 10,
   "metadata": {},
   "outputs": [
    {
     "name": "stdout",
     "output_type": "stream",
     "text": [
      "Train on 7880 samples, validate on 1970 samples\n",
      "Epoch 1/20\n",
      "7880/7880 [==============================] - 37s 5ms/step - loss: 7.8487 - acc: 0.4765 - val_loss: 6.5618 - val_acc: 0.5929\n",
      "\n",
      "Epoch 00001: saving model to CNN.hdf5\n",
      "Epoch 2/20\n",
      "7880/7880 [==============================] - 37s 5ms/step - loss: 6.6824 - acc: 0.5843 - val_loss: 6.5618 - val_acc: 0.5929\n",
      "\n",
      "Epoch 00002: saving model to CNN.hdf5\n",
      "Epoch 3/20\n",
      "7880/7880 [==============================] - 39s 5ms/step - loss: 6.6894 - acc: 0.5843 - val_loss: 6.5618 - val_acc: 0.5929\n",
      "\n",
      "Epoch 00003: saving model to CNN.hdf5\n",
      "Epoch 4/20\n",
      "7880/7880 [==============================] - 37s 5ms/step - loss: 6.6866 - acc: 0.5843 - val_loss: 6.5618 - val_acc: 0.5929\n",
      "\n",
      "Epoch 00004: saving model to CNN.hdf5\n",
      "Epoch 5/20\n",
      "7880/7880 [==============================] - 36s 5ms/step - loss: 6.6907 - acc: 0.5835 - val_loss: 6.5618 - val_acc: 0.5929\n",
      "\n",
      "Epoch 00005: saving model to CNN.hdf5\n",
      "Epoch 6/20\n",
      "7880/7880 [==============================] - 36s 5ms/step - loss: 6.6646 - acc: 0.5820 - val_loss: 6.5573 - val_acc: 0.5929\n",
      "\n",
      "Epoch 00006: saving model to CNN.hdf5\n",
      "Epoch 7/20\n",
      "7880/7880 [==============================] - 34s 4ms/step - loss: 6.5748 - acc: 0.5675 - val_loss: 6.0261 - val_acc: 0.5929\n",
      "\n",
      "Epoch 00007: saving model to CNN.hdf5\n",
      "Epoch 8/20\n",
      "7880/7880 [==============================] - 39s 5ms/step - loss: 4.8912 - acc: 0.4816 - val_loss: 1.2977 - val_acc: 0.5340\n",
      "\n",
      "Epoch 00008: saving model to CNN.hdf5\n",
      "Epoch 9/20\n",
      "7880/7880 [==============================] - 40s 5ms/step - loss: 1.6080 - acc: 0.4876 - val_loss: 1.2188 - val_acc: 0.6015\n",
      "\n",
      "Epoch 00009: saving model to CNN.hdf5\n",
      "Epoch 10/20\n",
      "7880/7880 [==============================] - 40s 5ms/step - loss: 1.2591 - acc: 0.5732 - val_loss: 1.1457 - val_acc: 0.6284\n",
      "\n",
      "Epoch 00010: saving model to CNN.hdf5\n",
      "Epoch 11/20\n",
      "7880/7880 [==============================] - 35s 4ms/step - loss: 1.1503 - acc: 0.5945 - val_loss: 1.0772 - val_acc: 0.6574\n",
      "\n",
      "Epoch 00011: saving model to CNN.hdf5\n",
      "Epoch 12/20\n",
      "7880/7880 [==============================] - 39s 5ms/step - loss: 1.0901 - acc: 0.6069 - val_loss: 1.0266 - val_acc: 0.6787\n",
      "\n",
      "Epoch 00012: saving model to CNN.hdf5\n",
      "Epoch 13/20\n",
      "7880/7880 [==============================] - 34s 4ms/step - loss: 1.0385 - acc: 0.6209 - val_loss: 0.9597 - val_acc: 0.7036\n",
      "\n",
      "Epoch 00013: saving model to CNN.hdf5\n",
      "Epoch 14/20\n",
      "7880/7880 [==============================] - 35s 4ms/step - loss: 0.9908 - acc: 0.6464 - val_loss: 0.8996 - val_acc: 0.7228\n",
      "\n",
      "Epoch 00014: saving model to CNN.hdf5\n",
      "Epoch 15/20\n",
      "7880/7880 [==============================] - 35s 4ms/step - loss: 0.9366 - acc: 0.6671 - val_loss: 0.8573 - val_acc: 0.7406\n",
      "\n",
      "Epoch 00015: saving model to CNN.hdf5\n",
      "Epoch 16/20\n",
      "7880/7880 [==============================] - 41s 5ms/step - loss: 0.8974 - acc: 0.6773 - val_loss: 0.7872 - val_acc: 0.7508\n",
      "\n",
      "Epoch 00016: saving model to CNN.hdf5\n",
      "Epoch 17/20\n",
      "7880/7880 [==============================] - 38s 5ms/step - loss: 0.8505 - acc: 0.7001 - val_loss: 0.7629 - val_acc: 0.7660\n",
      "\n",
      "Epoch 00017: saving model to CNN.hdf5\n",
      "Epoch 18/20\n",
      "7880/7880 [==============================] - 38s 5ms/step - loss: 0.8261 - acc: 0.7069 - val_loss: 0.7342 - val_acc: 0.7746\n",
      "\n",
      "Epoch 00018: saving model to CNN.hdf5\n",
      "Epoch 19/20\n",
      "7880/7880 [==============================] - 36s 5ms/step - loss: 0.8014 - acc: 0.7189 - val_loss: 0.6943 - val_acc: 0.7827\n",
      "\n",
      "Epoch 00019: saving model to CNN.hdf5\n",
      "Epoch 20/20\n",
      "7880/7880 [==============================] - 35s 4ms/step - loss: 0.7650 - acc: 0.7313 - val_loss: 0.6866 - val_acc: 0.7853\n",
      "\n",
      "Epoch 00020: saving model to CNN.hdf5\n"
     ]
    },
    {
     "data": {
      "text/plain": [
       "<keras.callbacks.History at 0x1a351b4748>"
      ]
     },
     "execution_count": 10,
     "metadata": {},
     "output_type": "execute_result"
    }
   ],
   "source": [
    "model_1 = get_model_1((32, 32, 3))\n",
    "# train model\n",
    "model_1.fit(X_train, \n",
    "          Y_train,\n",
    "          batch_size=256,\n",
    "          epochs=20,\n",
    "          validation_data=(X_test, Y_test),\n",
    "          shuffle=True,\n",
    "          callbacks=[early_Stopping,reduceLR,checkpointer,csv])"
   ]
  },
  {
   "cell_type": "code",
   "execution_count": 13,
   "metadata": {
    "scrolled": false
   },
   "outputs": [
    {
     "name": "stdout",
     "output_type": "stream",
     "text": [
      "Train on 7880 samples, validate on 1970 samples\n",
      "Epoch 1/100\n",
      "7880/7880 [==============================] - 43s 5ms/step - loss: 0.7476 - acc: 0.7387 - val_loss: 0.6215 - val_acc: 0.8015\n",
      "\n",
      "Epoch 00001: saving model to CNN.hdf5\n",
      "Epoch 2/100\n",
      "7880/7880 [==============================] - 49s 6ms/step - loss: 0.7145 - acc: 0.7459 - val_loss: 0.6032 - val_acc: 0.8071\n",
      "\n",
      "Epoch 00002: saving model to CNN.hdf5\n",
      "Epoch 3/100\n",
      "7880/7880 [==============================] - 55s 7ms/step - loss: 0.7002 - acc: 0.7505 - val_loss: 0.6204 - val_acc: 0.8015\n",
      "\n",
      "Epoch 00003: saving model to CNN.hdf5\n",
      "Epoch 4/100\n",
      "7880/7880 [==============================] - 39s 5ms/step - loss: 0.6873 - acc: 0.7532 - val_loss: 0.6115 - val_acc: 0.8015\n",
      "\n",
      "Epoch 00004: saving model to CNN.hdf5\n",
      "Epoch 5/100\n",
      "7880/7880 [==============================] - 41s 5ms/step - loss: 0.6654 - acc: 0.7627 - val_loss: 0.5571 - val_acc: 0.8162\n",
      "\n",
      "Epoch 00005: saving model to CNN.hdf5\n",
      "Epoch 6/100\n",
      "7880/7880 [==============================] - 39s 5ms/step - loss: 0.6557 - acc: 0.7695 - val_loss: 0.5462 - val_acc: 0.8223\n",
      "\n",
      "Epoch 00006: saving model to CNN.hdf5\n",
      "Epoch 7/100\n",
      "7880/7880 [==============================] - 47s 6ms/step - loss: 0.6446 - acc: 0.7737 - val_loss: 0.5275 - val_acc: 0.8244\n",
      "\n",
      "Epoch 00007: saving model to CNN.hdf5\n",
      "Epoch 8/100\n",
      "7880/7880 [==============================] - 43s 5ms/step - loss: 0.6375 - acc: 0.7711 - val_loss: 0.5403 - val_acc: 0.8234\n",
      "\n",
      "Epoch 00008: saving model to CNN.hdf5\n",
      "Epoch 9/100\n",
      "7880/7880 [==============================] - 37s 5ms/step - loss: 0.6227 - acc: 0.7824 - val_loss: 0.5301 - val_acc: 0.8279\n",
      "\n",
      "Epoch 00009: saving model to CNN.hdf5\n",
      "Epoch 10/100\n",
      "7880/7880 [==============================] - 39s 5ms/step - loss: 0.6150 - acc: 0.7838 - val_loss: 0.5161 - val_acc: 0.8330\n",
      "\n",
      "Epoch 00010: saving model to CNN.hdf5\n",
      "Epoch 11/100\n",
      "7880/7880 [==============================] - 43s 5ms/step - loss: 0.5769 - acc: 0.7891 - val_loss: 0.5008 - val_acc: 0.8310\n",
      "\n",
      "Epoch 00011: saving model to CNN.hdf5\n",
      "Epoch 12/100\n",
      "7880/7880 [==============================] - 36s 5ms/step - loss: 0.5881 - acc: 0.7945 - val_loss: 0.4804 - val_acc: 0.8437\n",
      "\n",
      "Epoch 00012: saving model to CNN.hdf5\n",
      "Epoch 13/100\n",
      "7880/7880 [==============================] - 41s 5ms/step - loss: 0.5735 - acc: 0.7958 - val_loss: 0.4779 - val_acc: 0.8396\n",
      "\n",
      "Epoch 00013: saving model to CNN.hdf5\n",
      "Epoch 14/100\n",
      "7880/7880 [==============================] - 41s 5ms/step - loss: 0.5736 - acc: 0.7985 - val_loss: 0.4723 - val_acc: 0.8421\n",
      "\n",
      "Epoch 00014: saving model to CNN.hdf5\n",
      "Epoch 15/100\n",
      "7880/7880 [==============================] - 37s 5ms/step - loss: 0.5526 - acc: 0.7991 - val_loss: 0.5007 - val_acc: 0.8305\n",
      "\n",
      "Epoch 00015: saving model to CNN.hdf5\n",
      "Epoch 16/100\n",
      "7880/7880 [==============================] - 34s 4ms/step - loss: 0.5485 - acc: 0.8056 - val_loss: 0.4587 - val_acc: 0.8487\n",
      "\n",
      "Epoch 00016: saving model to CNN.hdf5\n",
      "Epoch 17/100\n",
      "7880/7880 [==============================] - 48s 6ms/step - loss: 0.5363 - acc: 0.8058 - val_loss: 0.4842 - val_acc: 0.8320\n",
      "\n",
      "Epoch 00017: saving model to CNN.hdf5\n",
      "Epoch 18/100\n",
      "7880/7880 [==============================] - 59s 8ms/step - loss: 0.5341 - acc: 0.8145 - val_loss: 0.4684 - val_acc: 0.8406\n",
      "\n",
      "Epoch 00018: saving model to CNN.hdf5\n",
      "Epoch 19/100\n",
      "7880/7880 [==============================] - 46s 6ms/step - loss: 0.5275 - acc: 0.8105 - val_loss: 0.4504 - val_acc: 0.8533\n",
      "\n",
      "Epoch 00019: saving model to CNN.hdf5\n",
      "Epoch 20/100\n",
      "7880/7880 [==============================] - 40s 5ms/step - loss: 0.5178 - acc: 0.8131 - val_loss: 0.4355 - val_acc: 0.8513\n",
      "\n",
      "Epoch 00020: saving model to CNN.hdf5\n",
      "Epoch 21/100\n",
      "7880/7880 [==============================] - 35s 4ms/step - loss: 0.5088 - acc: 0.8185 - val_loss: 0.4335 - val_acc: 0.8558\n",
      "\n",
      "Epoch 00021: saving model to CNN.hdf5\n",
      "Epoch 22/100\n",
      "7880/7880 [==============================] - 42s 5ms/step - loss: 0.5012 - acc: 0.8183 - val_loss: 0.4393 - val_acc: 0.8553\n",
      "\n",
      "Epoch 00022: saving model to CNN.hdf5\n",
      "Epoch 23/100\n",
      "7880/7880 [==============================] - 39s 5ms/step - loss: 0.4954 - acc: 0.8250 - val_loss: 0.4246 - val_acc: 0.8569\n",
      "\n",
      "Epoch 00023: saving model to CNN.hdf5\n",
      "Epoch 24/100\n",
      "7880/7880 [==============================] - 51s 7ms/step - loss: 0.4927 - acc: 0.8256 - val_loss: 0.4306 - val_acc: 0.8563\n",
      "\n",
      "Epoch 00024: saving model to CNN.hdf5\n",
      "Epoch 25/100\n",
      "7880/7880 [==============================] - 42s 5ms/step - loss: 0.4828 - acc: 0.8292 - val_loss: 0.4120 - val_acc: 0.8629\n",
      "\n",
      "Epoch 00025: saving model to CNN.hdf5\n",
      "Epoch 26/100\n",
      "7880/7880 [==============================] - 37s 5ms/step - loss: 0.4771 - acc: 0.8302 - val_loss: 0.4301 - val_acc: 0.8538\n",
      "\n",
      "Epoch 00026: saving model to CNN.hdf5\n",
      "Epoch 27/100\n",
      "7880/7880 [==============================] - 43s 5ms/step - loss: 0.4776 - acc: 0.8260 - val_loss: 0.4001 - val_acc: 0.8650\n",
      "\n",
      "Epoch 00027: saving model to CNN.hdf5\n",
      "Epoch 28/100\n",
      "7880/7880 [==============================] - 35s 4ms/step - loss: 0.4668 - acc: 0.8316 - val_loss: 0.4085 - val_acc: 0.8629\n",
      "\n",
      "Epoch 00028: saving model to CNN.hdf5\n",
      "Epoch 29/100\n",
      "7880/7880 [==============================] - 37s 5ms/step - loss: 0.4613 - acc: 0.8374 - val_loss: 0.4416 - val_acc: 0.8411\n",
      "\n",
      "Epoch 00029: saving model to CNN.hdf5\n",
      "Epoch 30/100\n",
      "7880/7880 [==============================] - 42s 5ms/step - loss: 0.4595 - acc: 0.8390 - val_loss: 0.4289 - val_acc: 0.8492\n",
      "\n",
      "Epoch 00030: saving model to CNN.hdf5\n",
      "Epoch 31/100\n",
      "7880/7880 [==============================] - 48s 6ms/step - loss: 0.4624 - acc: 0.8338 - val_loss: 0.4026 - val_acc: 0.8665\n",
      "\n",
      "Epoch 00031: saving model to CNN.hdf5\n",
      "Epoch 32/100\n",
      "7880/7880 [==============================] - 40s 5ms/step - loss: 0.4568 - acc: 0.8369 - val_loss: 0.3998 - val_acc: 0.8629\n",
      "\n",
      "Epoch 00032: saving model to CNN.hdf5\n",
      "Epoch 33/100\n",
      "7880/7880 [==============================] - 40s 5ms/step - loss: 0.4416 - acc: 0.8443 - val_loss: 0.4038 - val_acc: 0.8619\n",
      "\n",
      "Epoch 00033: saving model to CNN.hdf5\n",
      "Epoch 34/100\n",
      "7880/7880 [==============================] - 36s 5ms/step - loss: 0.4499 - acc: 0.8383 - val_loss: 0.3951 - val_acc: 0.8650\n",
      "\n",
      "Epoch 00034: saving model to CNN.hdf5\n",
      "Epoch 35/100\n",
      "7880/7880 [==============================] - 49s 6ms/step - loss: 0.4339 - acc: 0.8443 - val_loss: 0.3911 - val_acc: 0.8660\n",
      "\n",
      "Epoch 00035: saving model to CNN.hdf5\n",
      "Epoch 36/100\n",
      "7880/7880 [==============================] - 42s 5ms/step - loss: 0.4318 - acc: 0.8451 - val_loss: 0.3728 - val_acc: 0.8721\n",
      "\n",
      "Epoch 00036: saving model to CNN.hdf5\n",
      "Epoch 37/100\n",
      "7880/7880 [==============================] - 46s 6ms/step - loss: 0.4286 - acc: 0.8471 - val_loss: 0.3824 - val_acc: 0.8690\n",
      "\n",
      "Epoch 00037: saving model to CNN.hdf5\n",
      "Epoch 38/100\n",
      "7880/7880 [==============================] - 39s 5ms/step - loss: 0.4238 - acc: 0.8520 - val_loss: 0.3820 - val_acc: 0.8716\n",
      "\n",
      "Epoch 00038: saving model to CNN.hdf5\n",
      "Epoch 39/100\n",
      "7880/7880 [==============================] - 40s 5ms/step - loss: 0.4101 - acc: 0.8566 - val_loss: 0.3745 - val_acc: 0.8716\n",
      "\n",
      "Epoch 00039: saving model to CNN.hdf5\n",
      "Epoch 40/100\n",
      "7880/7880 [==============================] - 40s 5ms/step - loss: 0.4123 - acc: 0.8608 - val_loss: 0.3673 - val_acc: 0.8797\n",
      "\n",
      "Epoch 00040: saving model to CNN.hdf5\n",
      "Epoch 41/100\n",
      "7880/7880 [==============================] - 41s 5ms/step - loss: 0.4090 - acc: 0.8555 - val_loss: 0.3705 - val_acc: 0.8701\n",
      "\n",
      "Epoch 00041: saving model to CNN.hdf5\n",
      "Epoch 42/100\n",
      "7880/7880 [==============================] - 50s 6ms/step - loss: 0.3977 - acc: 0.8571 - val_loss: 0.3748 - val_acc: 0.8660\n",
      "\n",
      "Epoch 00042: saving model to CNN.hdf5\n",
      "Epoch 43/100\n",
      "7880/7880 [==============================] - 45s 6ms/step - loss: 0.4003 - acc: 0.8556 - val_loss: 0.3658 - val_acc: 0.8761\n",
      "\n",
      "Epoch 00043: saving model to CNN.hdf5\n",
      "Epoch 44/100\n",
      "7880/7880 [==============================] - 40s 5ms/step - loss: 0.3977 - acc: 0.8596 - val_loss: 0.3672 - val_acc: 0.8777\n",
      "\n",
      "Epoch 00044: saving model to CNN.hdf5\n",
      "Epoch 45/100\n",
      "7880/7880 [==============================] - 45s 6ms/step - loss: 0.3903 - acc: 0.8607 - val_loss: 0.3599 - val_acc: 0.8766\n",
      "\n",
      "Epoch 00045: saving model to CNN.hdf5\n",
      "Epoch 46/100\n",
      "7880/7880 [==============================] - 35s 4ms/step - loss: 0.3986 - acc: 0.8566 - val_loss: 0.3786 - val_acc: 0.8701\n",
      "\n",
      "Epoch 00046: saving model to CNN.hdf5\n",
      "Epoch 47/100\n",
      "7880/7880 [==============================] - 44s 6ms/step - loss: 0.3869 - acc: 0.8602 - val_loss: 0.3881 - val_acc: 0.8629\n",
      "\n",
      "Epoch 00047: saving model to CNN.hdf5\n",
      "Epoch 48/100\n",
      "7880/7880 [==============================] - 37s 5ms/step - loss: 0.3801 - acc: 0.8655 - val_loss: 0.3504 - val_acc: 0.8802\n",
      "\n",
      "Epoch 00048: saving model to CNN.hdf5\n",
      "Epoch 49/100\n",
      "7880/7880 [==============================] - 35s 4ms/step - loss: 0.3721 - acc: 0.8713 - val_loss: 0.3420 - val_acc: 0.8787\n",
      "\n",
      "Epoch 00049: saving model to CNN.hdf5\n",
      "Epoch 50/100\n",
      "7880/7880 [==============================] - 34s 4ms/step - loss: 0.3724 - acc: 0.8657 - val_loss: 0.3380 - val_acc: 0.8848\n",
      "\n",
      "Epoch 00050: saving model to CNN.hdf5\n",
      "Epoch 51/100\n",
      "7880/7880 [==============================] - 34s 4ms/step - loss: 0.3712 - acc: 0.8707 - val_loss: 0.3820 - val_acc: 0.8680\n",
      "\n",
      "Epoch 00051: saving model to CNN.hdf5\n",
      "Epoch 52/100\n",
      "7880/7880 [==============================] - 35s 4ms/step - loss: 0.3697 - acc: 0.8683 - val_loss: 0.3623 - val_acc: 0.8726\n",
      "\n",
      "Epoch 00052: saving model to CNN.hdf5\n",
      "Epoch 53/100\n",
      "7880/7880 [==============================] - 34s 4ms/step - loss: 0.3639 - acc: 0.8760 - val_loss: 0.3440 - val_acc: 0.8838\n",
      "\n",
      "Epoch 00053: saving model to CNN.hdf5\n",
      "Epoch 54/100\n",
      "7880/7880 [==============================] - 51s 6ms/step - loss: 0.3673 - acc: 0.8713 - val_loss: 0.3608 - val_acc: 0.8777\n",
      "\n",
      "Epoch 00054: saving model to CNN.hdf5\n",
      "Epoch 55/100\n",
      "7880/7880 [==============================] - 37s 5ms/step - loss: 0.3505 - acc: 0.8730 - val_loss: 0.3313 - val_acc: 0.8888\n",
      "\n",
      "Epoch 00055: saving model to CNN.hdf5\n",
      "Epoch 56/100\n",
      "7880/7880 [==============================] - 34s 4ms/step - loss: 0.3557 - acc: 0.8737 - val_loss: 0.3486 - val_acc: 0.8817\n",
      "\n",
      "Epoch 00056: saving model to CNN.hdf5\n",
      "Epoch 57/100\n",
      "7880/7880 [==============================] - 35s 4ms/step - loss: 0.3545 - acc: 0.8745 - val_loss: 0.3409 - val_acc: 0.8893\n",
      "\n",
      "Epoch 00057: saving model to CNN.hdf5\n",
      "Epoch 58/100\n",
      "7880/7880 [==============================] - 34s 4ms/step - loss: 0.3494 - acc: 0.8766 - val_loss: 0.3558 - val_acc: 0.8756\n",
      "\n",
      "Epoch 00058: saving model to CNN.hdf5\n",
      "Epoch 59/100\n",
      "7880/7880 [==============================] - 34s 4ms/step - loss: 0.3476 - acc: 0.8739 - val_loss: 0.3539 - val_acc: 0.8772\n",
      "\n",
      "Epoch 00059: saving model to CNN.hdf5\n",
      "Epoch 60/100\n",
      "7880/7880 [==============================] - 42s 5ms/step - loss: 0.3401 - acc: 0.8821 - val_loss: 0.3366 - val_acc: 0.8863\n",
      "\n",
      "Epoch 00060: saving model to CNN.hdf5\n"
     ]
    }
   ],
   "source": [
    "history_1 = model_1.fit(X_train, \n",
    "          Y_train,\n",
    "          batch_size=256,\n",
    "          epochs=100,\n",
    "          validation_data=(X_test, Y_test),\n",
    "          shuffle=True,\n",
    "          callbacks=[early_Stopping,reduceLR,checkpointer,csv])"
   ]
  },
  {
   "cell_type": "code",
   "execution_count": 11,
   "metadata": {
    "scrolled": true
   },
   "outputs": [
    {
     "data": {
      "text/plain": [
       "<matplotlib.axes._subplots.AxesSubplot at 0x119a28160>"
      ]
     },
     "metadata": {},
     "output_type": "display_data"
    },
    {
     "data": {
      "image/png": "[encoded data removed]",
      "text/plain": [
       "<matplotlib.figure.Figure at 0x1a3574e4e0>"
      ]
     },
     "metadata": {},
     "output_type": "display_data"
    }
   ],
   "source": [
    "# plot accuracy and validation accuracy during training\n",
    "df = pd.read_csv('CNN.csv', index_col='epoch')\n",
    "display(df[['acc', 'val_acc']].plot())"
   ]
  },
  {
   "cell_type": "code",
   "execution_count": 14,
   "metadata": {
    "scrolled": true
   },
   "outputs": [
    {
     "data": {
      "text/plain": [
       "<matplotlib.axes._subplots.AxesSubplot at 0x119a939e8>"
      ]
     },
     "metadata": {},
     "output_type": "display_data"
    },
    {
     "data": {
      "image/png": "[encoded data removed]",
      "text/plain": [
       "<matplotlib.figure.Figure at 0x119a932e8>"
      ]
     },
     "metadata": {},
     "output_type": "display_data"
    }
   ],
   "source": [
    "# plot accuracy and validation accuracy during training\n",
    "df = pd.read_csv('CNN.csv', index_col='epoch')\n",
    "display(df[['acc', 'val_acc']].plot())"
   ]
  },
  {
   "cell_type": "markdown",
   "metadata": {},
   "source": [
    "#### Result:\n",
    "Result of the first CNN model:<br> Accuracy: 88.21%, Validation Accuracy: 88.63%."
   ]
  },
  {
   "cell_type": "markdown",
   "metadata": {},
   "source": [
    "### Mimic AlexNet Model"
   ]
  },
  {
   "cell_type": "markdown",
   "metadata": {},
   "source": [
    "- Next, we build this CNN model mimicing AlexNet<sup>[2]</sup>:\n",
    " - This model has 5 convolutional layers and 3 fully connected layers.\n",
    "  - Normalization layer is implemented after maxpooling layer which can slove vanishing gradients and exploding gradients problems. (More spicific intro of batch normalization can refer to this <a href = \"https://standardfrancis.wordpress.com/2015/04/16/batch-normalization/\" target=\"_blank\">blog</a>. \n",
    "  - At last: use softmax to classify which type each vehicle belongs to."
   ]
  },
  {
   "cell_type": "code",
   "execution_count": 5,
   "metadata": {
    "collapsed": true
   },
   "outputs": [],
   "source": [
    "# Data Preprocessing\n",
    "X_list = []\n",
    "for filename in sorted(os.listdir('./Dataset_Resize/')):\n",
    "    # load image data\n",
    "    img = image.load_img(Path('./Dataset_Resize/', filename), target_size = (64,64)) \n",
    "    X_list.append(image.img_to_array(img))\n",
    "X = np.array(X_list) # convert image to nparray\n",
    "\n",
    "df = pd.read_csv('./vehicles.csv', index_col=0) # load annotation file\n",
    "df_dummy = pd.get_dummies(df['Vehicle_Type']) # dummy encoding\n",
    "Y = np.array(df_dummy)\n",
    "\n",
    "X_train, X_test, Y_train, Y_test = train_test_split(X, Y, test_size=0.2) # splite data for train and test"
   ]
  },
  {
   "cell_type": "code",
   "execution_count": 6,
   "metadata": {
    "collapsed": true
   },
   "outputs": [],
   "source": [
    "def AlexNet(input_shape):\n",
    "    model = Sequential()\n",
    "    # model.add(Conv2D(96, (11,11), strides=(4,4), activation='relu', padding='same', input_shape=input_shape))\n",
    "    # for original Alexnet\n",
    "    model.add(Conv2D(96, (3,3), strides=(2,2), activation='relu', padding='same', input_shape=input_shape))\n",
    "    model.add(MaxPooling2D(pool_size=(2, 2), strides=(2,2)))\n",
    "    # Local Response normalization for Original Alexnet\n",
    "    model.add(BatchNormalization())\n",
    "\n",
    "    model.add(Conv2D(256, (5,5), activation='relu', padding='same'))\n",
    "    model.add(MaxPooling2D(pool_size=(3, 3), strides=(2,2)))\n",
    "    model.add(BatchNormalization())\n",
    "\n",
    "    model.add(Conv2D(384, (3,3), activation='relu', padding='same'))\n",
    "    model.add(Conv2D(384, (3,3), activation='relu', padding='same'))\n",
    "    model.add(Conv2D(256, (3,3), activation='relu', padding='same'))\n",
    "    model.add(MaxPooling2D(pool_size=(3, 3), strides=(2,2)))\n",
    "    model.add(BatchNormalization())\n",
    "\n",
    "    # fully connected layers\n",
    "    model.add(Flatten())\n",
    "    model.add(Dense(4096, activation='tanh'))\n",
    "    model.add(Dropout(0.5))\n",
    "    model.add(Dense(4096, activation='tanh'))\n",
    "    model.add(Dropout(0.5))\n",
    "    model.add(Dense(6, activation='softmax'))\n",
    "    \n",
    "    # Print model summary\n",
    "    model.summary()\n",
    "\n",
    "    # Loss function and Optimizer\n",
    "    model.compile(loss='categorical_crossentropy',\n",
    "                  optimizer=Adam(),\n",
    "                  metrics=['accuracy'])\n",
    "    return model;"
   ]
  },
  {
   "cell_type": "code",
   "execution_count": 7,
   "metadata": {
    "collapsed": true
   },
   "outputs": [],
   "source": [
    "# use callback methods the same as the baseline model above\n",
    "early_Stopping = EarlyStopping(\n",
    "    monitor='val_loss', \n",
    "    patience=5, \n",
    "    verbose=0, \n",
    "    mode='auto'\n",
    ")\n",
    "reduceLR = ReduceLROnPlateau(monitor='val_loss', factor=0.1, patience=5, verbose=0, mode='auto', min_lr=0)\n",
    "checkpointer = ModelCheckpoint(filepath=\"AlexNet_1.hdf5\", verbose=1, save_best_only = True)\n",
    "csv = CSVLogger('AlexNet_1.csv')"
   ]
  },
  {
   "cell_type": "code",
   "execution_count": null,
   "metadata": {},
   "outputs": [
    {
     "name": "stdout",
     "output_type": "stream",
     "text": [
      "_________________________________________________________________\n",
      "Layer (type)                 Output Shape              Param #   \n",
      "=================================================================\n",
      "conv2d_1 (Conv2D)            (None, 32, 32, 96)        2688      \n",
      "_________________________________________________________________\n",
      "max_pooling2d_1 (MaxPooling2 (None, 16, 16, 96)        0         \n",
      "_________________________________________________________________\n",
      "batch_normalization_1 (Batch (None, 16, 16, 96)        384       \n",
      "_________________________________________________________________\n",
      "conv2d_2 (Conv2D)            (None, 16, 16, 256)       614656    \n",
      "_________________________________________________________________\n",
      "max_pooling2d_2 (MaxPooling2 (None, 7, 7, 256)         0         \n",
      "_________________________________________________________________\n",
      "batch_normalization_2 (Batch (None, 7, 7, 256)         1024      \n",
      "_________________________________________________________________\n",
      "conv2d_3 (Conv2D)            (None, 7, 7, 384)         885120    \n",
      "_________________________________________________________________\n",
      "conv2d_4 (Conv2D)            (None, 7, 7, 384)         1327488   \n",
      "_________________________________________________________________\n",
      "conv2d_5 (Conv2D)            (None, 7, 7, 256)         884992    \n",
      "_________________________________________________________________\n",
      "max_pooling2d_3 (MaxPooling2 (None, 3, 3, 256)         0         \n",
      "_________________________________________________________________\n",
      "batch_normalization_3 (Batch (None, 3, 3, 256)         1024      \n",
      "_________________________________________________________________\n",
      "flatten_1 (Flatten)          (None, 2304)              0         \n",
      "_________________________________________________________________\n",
      "dense_1 (Dense)              (None, 4096)              9441280   \n",
      "_________________________________________________________________\n",
      "dropout_1 (Dropout)          (None, 4096)              0         \n",
      "_________________________________________________________________\n",
      "dense_2 (Dense)              (None, 4096)              16781312  \n",
      "_________________________________________________________________\n",
      "dropout_2 (Dropout)          (None, 4096)              0         \n",
      "_________________________________________________________________\n",
      "dense_3 (Dense)              (None, 6)                 24582     \n",
      "=================================================================\n",
      "Total params: 29,964,550\n",
      "Trainable params: 29,963,334\n",
      "Non-trainable params: 1,216\n",
      "_________________________________________________________________\n",
      "Train on 7880 samples, validate on 1970 samples\n",
      "Epoch 1/100\n",
      "1792/7880 [=====>........................] - ETA: 2:18 - loss: 7.0645 - acc: 0.4135"
     ]
    }
   ],
   "source": [
    "model_Alex = AlexNet((64,64,3))\n",
    "# train the model\n",
    "history = model_Alex.fit(X_train, Y_train,\n",
    "                       batch_size=256,\n",
    "                       epochs=100,\n",
    "                       verbose=1,\n",
    "                       validation_data=(X_test, Y_test),\n",
    "                       shuffle=True,\n",
    "                       callbacks=[early_Stopping,reduceLR,checkpointer,csv])"
   ]
  },
  {
   "cell_type": "markdown",
   "metadata": {},
   "source": [
    "### --> Because it takes much time to retrain this model in this blog, you can get All Train Result: [AlexNet Model](./Alexnet/Mimick_AlexNet_Keras.ipynb) "
   ]
  },
  {
   "cell_type": "markdown",
   "metadata": {},
   "source": [
    "#### Result:\n",
    "Result of this CNN model:<br> Accuracy: 98%, Validation Accuracy: 90.96% <br>\n",
    "The accuracy is better than the baseline model."
   ]
  },
  {
   "cell_type": "code",
   "execution_count": 5,
   "metadata": {},
   "outputs": [
    {
     "data": {
      "text/plain": [
       "<matplotlib.axes._subplots.AxesSubplot at 0x1a249c1f60>"
      ]
     },
     "metadata": {},
     "output_type": "display_data"
    },
    {
     "data": {
      "image/png": "[encoded data removed]",
      "text/plain": [
       "<matplotlib.figure.Figure at 0x181b8258d0>"
      ]
     },
     "metadata": {},
     "output_type": "display_data"
    }
   ],
   "source": [
    "# plot accuracy and validation accuracy during training\n",
    "df = pd.read_csv('./Alexnet/AlexNet.csv', index_col='epoch')\n",
    "display(df[['acc', 'val_acc']].plot())"
   ]
  },
  {
   "cell_type": "markdown",
   "metadata": {},
   "source": [
    "### Transfer Learning using Inception V3"
   ]
  },
  {
   "cell_type": "markdown",
   "metadata": {},
   "source": [
    "Transfer learning is the process of taking a pre-trained model (the weights and parameters of a network that has been trained on a large dataset) with our own dataset. The idea is that this pre-trained model will act as a feature extractor. We will remove the top layers of the network and replace it with our own classifier."
   ]
  },
  {
   "cell_type": "code",
   "execution_count": 15,
   "metadata": {
    "collapsed": true
   },
   "outputs": [],
   "source": [
    "from keras.applications.inception_v3 import InceptionV3\n",
    "from keras.layers import Dense, Flatten, GlobalAveragePooling2D\n",
    "from keras.models import Model, Sequential\n",
    "from keras.utils.vis_utils import plot_model\n",
    "from keras.preprocessing.image import ImageDataGenerator\n",
    "from keras.optimizers import Adadelta, Adam"
   ]
  },
  {
   "cell_type": "markdown",
   "metadata": {},
   "source": [
    "#### Data Preprocessing: Load resized 299x299 image data and convert them to numpy array."
   ]
  },
  {
   "cell_type": "code",
   "execution_count": 18,
   "metadata": {},
   "outputs": [
    {
     "name": "stdout",
     "output_type": "stream",
     "text": [
      "Y\n"
     ]
    }
   ],
   "source": [
    "# Load saved X_train and X_test data if exist.\n",
    "if os.path.exists('./Inceptionv3_TL/X_train_Inception.npz' and './Inceptionv3_TL/X_test_Inception.npz'):\n",
    "    X_train = np.load('./Inceptionv3_TL/X_train_Inception.npz')['features']\n",
    "    X_test = np.load('./Inceptionv3_TL/X_test_Inception.npz')['features']\n",
    "    print(\"X\")\n",
    "\n",
    "# Load saved Y_train and Y_test data if exist.\n",
    "if os.path.exists('./Inceptionv3_TL/Y_train_Inception.npz' and './Inceptionv3_TL/Y_test_Inception.npz'):\n",
    "    Y_train = np.load('./Inceptionv3_TL/Y_train_Inception.npz')['features']  \n",
    "    Y_test = np.load('./Inceptionv3_TL/Y_test_Inception.npz')['features']\n",
    "    print(\"Y\")\n",
    "else:\n",
    "    print(\"Y Not exists.\")\n",
    "    # Load image and label information and convert them to numpy array\n",
    "    X_list = []\n",
    "    for filename in sorted(os.listdir('./Dataset_Resize/')):\n",
    "        img = image.load_img(Path('./Dataset_Resize/', filename))\n",
    "        X_list.append(image.img_to_array(img))\n",
    "    X = np.array(X_list)\n",
    "    print(X.shape)\n",
    "\n",
    "    df = pd.read_csv('./vehicles.csv', index_col=0)\n",
    "    df_dummy = pd.get_dummies(df['Vehicle_Type'])\n",
    "    Y = np.array(df_dummy)\n",
    "    print(Y.shape)\n",
    "\n",
    "    X_train, X_test, Y_train, Y_test = train_test_split(X, Y, test_size=0.2)"
   ]
  },
  {
   "cell_type": "markdown",
   "metadata": {},
   "source": [
    "<p>Download InceptionV3 pretrained model on ImageNet.</p>\n",
    "![Inception V3 Transfer Learning](./image/InceptionV3.png)\n",
    "<p><b>Data Augmentation</b>: rescale is a value by which we will multiply the data before any other processing. Our original images consist in RGB coefficients in the 0-255, but such values would be too high for our models to process, so we target values between 0 and 1 instead by scaling with a 1./255 factor.</p>"
   ]
  },
  {
   "cell_type": "code",
   "execution_count": 19,
   "metadata": {
    "collapsed": true
   },
   "outputs": [],
   "source": [
    "# rescale data to 0-1\n",
    "datagen = ImageDataGenerator(rescale=1. / 255)\n",
    "\n",
    "# load InceptionV3 model without top layers\n",
    "model_Inception = InceptionV3(include_top = False, weights = 'imagenet')"
   ]
  },
  {
   "cell_type": "markdown",
   "metadata": {},
   "source": [
    "<p>we only instantiate the convolutional part of the model, everything up to the fully-connected layers. Then, we run this model on our training and test data once, extracting the \"bottleneck features\" from InceptionV3 model in two numpy arrays. Then we will train a small fully-connected model on top of the stored features.</p>\n",
    "\n",
    "<p>The reason why we are storing the features offline rather than adding our fully-connected model directly on top of a frozen convolutional base and running the whole thing, is computational effiency<sup>[3]</sup>.</p>"
   ]
  },
  {
   "cell_type": "code",
   "execution_count": 20,
   "metadata": {},
   "outputs": [
    {
     "name": "stdout",
     "output_type": "stream",
     "text": [
      "done\n"
     ]
    }
   ],
   "source": [
    "if os.path.exists('./Inceptionv3_TL/inception_features_train.npz'):\n",
    "    # Load bottleneck features if exists:\n",
    "    bottleneck_features_train = np.load('./Inceptionv3_TL/inception_features_train.npz')['features']\n",
    "    print(\"done\")\n",
    "else:\n",
    "    # Takes numpy data & label arrays, and generates batches of augmented/normalized data:\n",
    "    generator = datagen.flow(X_train, Y_train, \n",
    "                     batch_size = 256)\n",
    "    \n",
    "    # Extract prediction features:\n",
    "    bottleneck_features_train = model_Inception.predict_generator(generator)\n",
    "    print(\"Calculate train features\")\n",
    "    # Save bottleneck features:\n",
    "    np.savez('./Inceptionv3_TL/inception_features_train', features=bottleneck_features_train)\n",
    "    print(\"Saved train features\")"
   ]
  },
  {
   "cell_type": "code",
   "execution_count": 21,
   "metadata": {},
   "outputs": [
    {
     "name": "stdout",
     "output_type": "stream",
     "text": [
      "done\n"
     ]
    }
   ],
   "source": [
    "if os.path.exists('./Inceptionv3_TL/inception_features_validation.npz'):\n",
    "    # Load bottleneck features if exists:\n",
    "    bottleneck_features_test = np.load('./Inceptionv3_TL/inception_features_validation.npz')['features']\n",
    "    print(\"done\")\n",
    "else:\n",
    "    # Takes numpy data & label arrays, and generates batches of augmented/normalized data:\n",
    "    generator = datagen.flow(X_test, Y_test, \n",
    "                     batch_size = 256)\n",
    "    \n",
    "     # Extract prediction features:\n",
    "    bottleneck_features_test = model_Inception.predict_generator(generator)\n",
    "    print(\"Calculate test features\")\n",
    "    # Save bottleneck features:\n",
    "    np.savez('./Inceptionv3_TL/inception_features_validation', features=bottleneck_features_validation)\n",
    "    print(\"Saved test features\")"
   ]
  },
  {
   "cell_type": "code",
   "execution_count": 22,
   "metadata": {
    "collapsed": true
   },
   "outputs": [],
   "source": [
    "# use callback methods the same as the baseline model above\n",
    "early_Stopping = EarlyStopping(\n",
    "                    monitor='val_loss', \n",
    "                    patience=5, \n",
    "                    verbose=0, \n",
    "                    mode='auto')\n",
    "\n",
    "reduceLR = ReduceLROnPlateau(monitor='val_loss', factor=0.1, patience=5, verbose=0, mode='auto', min_lr=0)\n",
    "\n",
    "checkpointer = ModelCheckpoint(filepath=\"TL_InceptionV3.hdf5\", verbose=0, save_best_only = True)\n",
    "\n",
    "csv = CSVLogger('TL_InceptionV3.csv')"
   ]
  },
  {
   "cell_type": "code",
   "execution_count": 23,
   "metadata": {
    "collapsed": true
   },
   "outputs": [],
   "source": [
    "def get_model_TL():\n",
    "    # fully connected layers:\n",
    "    model = Sequential()\n",
    "    model.add(GlobalAveragePooling2D(input_shape = bottleneck_features_train.shape[1:]))\n",
    "    model.add(Dense(1024,activation='relu'))\n",
    "    model.add(Dropout(0.5))\n",
    "    model.add(Dense(6, activation='softmax'))\n",
    "    \n",
    "    # display model summary:\n",
    "    model.summary()\n",
    "    \n",
    "    # Loss method, optimizer and evaluation method:\n",
    "    opt = Adam(lr=0.0001, beta_1=0.9, beta_2=0.999)\n",
    "    model.compile(loss='categorical_crossentropy',\n",
    "                  optimizer= opt,\n",
    "                  metrics=['accuracy'])\n",
    "    return model;"
   ]
  },
  {
   "cell_type": "code",
   "execution_count": null,
   "metadata": {},
   "outputs": [
    {
     "name": "stdout",
     "output_type": "stream",
     "text": [
      "_________________________________________________________________\n",
      "Layer (type)                 Output Shape              Param #   \n",
      "=================================================================\n",
      "global_average_pooling2d_1 ( (None, 2048)              0         \n",
      "_________________________________________________________________\n",
      "dense_5 (Dense)              (None, 1024)              2098176   \n",
      "_________________________________________________________________\n",
      "dropout_7 (Dropout)          (None, 1024)              0         \n",
      "_________________________________________________________________\n",
      "dense_6 (Dense)              (None, 6)                 6150      \n",
      "=================================================================\n",
      "Total params: 2,104,326\n",
      "Trainable params: 2,104,326\n",
      "Non-trainable params: 0\n",
      "_________________________________________________________________\n",
      "Train on 7880 samples, validate on 1970 samples\n",
      "Epoch 1/100\n",
      "7880/7880 [==============================] - 331s 42ms/step - loss: 1.4650 - acc: 0.5522 - val_loss: 1.3511 - val_acc: 0.5858\n",
      "Epoch 2/100\n",
      "7880/7880 [==============================] - 122s 15ms/step - loss: 1.3621 - acc: 0.5835 - val_loss: 1.3379 - val_acc: 0.5858\n",
      "Epoch 3/100\n",
      "7880/7880 [==============================] - 150s 19ms/step - loss: 1.3335 - acc: 0.5863 - val_loss: 1.3357 - val_acc: 0.5858\n",
      "Epoch 4/100\n",
      "7880/7880 [==============================] - 138s 17ms/step - loss: 1.3291 - acc: 0.5862 - val_loss: 1.3395 - val_acc: 0.5858\n",
      "Epoch 5/100\n",
      "7880/7880 [==============================] - 83s 11ms/step - loss: 1.3227 - acc: 0.5867 - val_loss: 1.3441 - val_acc: 0.5858\n",
      "Epoch 6/100\n",
      "7880/7880 [==============================] - 119s 15ms/step - loss: 1.3075 - acc: 0.5867 - val_loss: 1.3368 - val_acc: 0.5858\n",
      "Epoch 7/100\n",
      "7880/7880 [==============================] - 147s 19ms/step - loss: 1.3020 - acc: 0.5864 - val_loss: 1.3356 - val_acc: 0.5858\n",
      "Epoch 8/100\n",
      " 512/7880 [>.............................] - ETA: 5:53 - loss: 1.2884 - acc: 0.5918"
     ]
    }
   ],
   "source": [
    "model_TL = get_model_TL()\n",
    "# train the simple model:\n",
    "history_2 = model_TL.fit(bottleneck_features_train, Y_train,\n",
    "                   batch_size=256,\n",
    "                   epochs=100,\n",
    "                   verbose=1,\n",
    "                   validation_data=(bottleneck_features_test, Y_test),\n",
    "                   shuffle=True,\n",
    "                   callbacks=[early_Stopping,reduceLR,checkpointer,csv])"
   ]
  },
  {
   "cell_type": "markdown",
   "metadata": {},
   "source": [
    "### --> Because it takes much time to retrain this model in this blog, you can get All Train Result: [InceptionV3 Transfer Learning](./Inceptionv3_TL/InceptionV3_Transfer_Learning.ipynb)"
   ]
  },
  {
   "cell_type": "markdown",
   "metadata": {},
   "source": [
    "#### Result:\n",
    "<p>Result of this Transfer Learning:<br> Accuracy: 58%, Validation Accuracy: 60% </p> This is not a good result."
   ]
  },
  {
   "cell_type": "markdown",
   "metadata": {},
   "source": [
    "## Conclusion"
   ]
  },
  {
   "cell_type": "markdown",
   "metadata": {},
   "source": [
    "- Result Summary:\n",
    "    - VGG16-like Baseline Model:<br>\n",
    "        image size: 32x32 Accuracy 88.21%, Validation Accuracy 88.63%\n",
    "    - Mimic AlexNet Model:<br>\n",
    "        image size: 64x64 Accuracy 98%, Validation Accuracy 91%\n",
    "    - Transfer Learning with Inception V3:<br>\n",
    "        image size: 299x299 Accuracy 58% Validation Accuracy 60%"
   ]
  },
  {
   "cell_type": "markdown",
   "metadata": {},
   "source": [
    "- Based on the results generated by the above three models:<br> \n",
    "    - Mimic AlexNet has the best performance with validation accuracy higher than 0.9.\n",
    "    - Concerning about relative low validation accuracy performed by Inception V3 Model, it could be the situation that this dataset does not share too much common with ImageNet where Inception V3 model has been trained and also we doubt the performance when such large and complex networks is performed on small sized images.\n",
    "    - Next Step: We will try to utilize more aggressive data augmentation methods and modified dropout layer parameters with pre-trained model to train this dataset again."
   ]
  },
  {
   "cell_type": "markdown",
   "metadata": {},
   "source": [
    "## Reference"
   ]
  },
  {
   "cell_type": "markdown",
   "metadata": {},
   "source": [
    "[1] https://keras.io/getting-started/sequential-model-guide/#examples<br>\n",
    "[2] https://github.com/jkh911208/cswithjames/blob/master/8_CIFAR10_alexnet.py<br>\n",
    "[3] https://blog.keras.io/building-powerful-image-classification-models-using-very-little-data.html<br>\n",
    "[4] https://github.com/alexisbcook/keras_transfer_cifar10/blob/master/Keras_Transfer_CIFAR10.ipynb"
   ]
  },
  {
   "cell_type": "markdown",
   "metadata": {},
   "source": [
    "## License"
   ]
  },
  {
   "cell_type": "markdown",
   "metadata": {},
   "source": [
    "#### The text in the document by Junhan Ma, Bo Han is licensed under CC BY 3.0 https://creativecommons.org/licenses/by/3.0/us/\n",
    "#### The code in the document by Junhan Ma, Bo Han is licensed under the MIT License https://opensource.org/licenses/MIT"
   ]
  }
 ],
 "metadata": {
  "kernelspec": {
   "display_name": "Python 3",
   "language": "python",
   "name": "python3"
  },
  "language_info": {
   "codemirror_mode": {
    "name": "ipython",
    "version": 3
   },
   "file_extension": ".py",
   "mimetype": "text/x-python",
   "name": "python",
   "nbconvert_exporter": "python",
   "pygments_lexer": "ipython3",
   "version": "3.6.3"
  }
 },
 "nbformat": 4,
 "nbformat_minor": 2
}
